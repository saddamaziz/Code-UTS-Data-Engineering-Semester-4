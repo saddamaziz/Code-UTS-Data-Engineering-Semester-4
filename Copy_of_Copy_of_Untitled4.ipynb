{
  "nbformat": 4,
  "nbformat_minor": 0,
  "metadata": {
    "colab": {
      "provenance": [],
      "authorship_tag": "ABX9TyNjiAHrjobb8O8W37AGk41h",
      "include_colab_link": true
    },
    "kernelspec": {
      "name": "python3",
      "display_name": "Python 3"
    },
    "language_info": {
      "name": "python"
    }
  },
  "cells": [
    {
      "cell_type": "markdown",
      "metadata": {
        "id": "view-in-github",
        "colab_type": "text"
      },
      "source": [
        "<a href=\"https://colab.research.google.com/github/saddamaziz/Code-UTS-Data-Engineering-Semester-4/blob/main/Copy_of_Copy_of_Untitled4.ipynb\" target=\"_parent\"><img src=\"https://colab.research.google.com/assets/colab-badge.svg\" alt=\"Open In Colab\"/></a>"
      ]
    },
    {
      "cell_type": "code",
      "source": [
        "import pandas as pd\n",
        "\n",
        "# Baca file CSV\n",
        "df = pd.read_csv('ds_salaries.csv')\n",
        "\n",
        "missing_values = df.isnull().sum()\n",
        "\n",
        "print ('Missing Values : \\n',missing_values)"
      ],
      "metadata": {
        "id": "WM2pwCE_VxD2"
      },
      "execution_count": null,
      "outputs": []
    },
    {
      "cell_type": "code",
      "source": [
        "import pandas as pd\n",
        "import numpy as np\n",
        "\n",
        "# load data from CSV file\n",
        "df = pd.read_csv('ds_salaries.csv')\n",
        "\n",
        "# define a function to detect outliers using IQR method\n",
        "def detect_outliers_iqr(data):\n",
        "    # check if data is numeric\n",
        "    if np.issubdtype(data.dtype, np.number):\n",
        "        # calculate first and third quartiles\n",
        "        q1 = data.quantile(0.25)\n",
        "        q3 = data.quantile(0.75)\n",
        "        # calculate IQR\n",
        "        iqr = q3 - q1\n",
        "        # calculate lower and upper bounds\n",
        "        lower_bound = q1 - 1.5 * iqr\n",
        "        upper_bound = q3 + 1.5 * iqr\n",
        "        # detect outliers\n",
        "        outliers = (data < lower_bound) | (data > upper_bound)\n",
        "        return outliers\n",
        "    else:\n",
        "        return pd.Series([False] * len(data), index=data.index)\n",
        "\n",
        "# detect outliers in each column\n",
        "for column in df.columns:\n",
        "    outliers = detect_outliers_iqr(df[column])\n",
        "    if outliers.any():\n",
        "        print(f\"Outliers detected in column '{column}':\\n{df[outliers]}\")"
      ],
      "metadata": {
        "id": "UsA7bwgnV95V"
      },
      "execution_count": null,
      "outputs": []
    },
    {
      "cell_type": "code",
      "source": [
        "import pandas as pd\n",
        "import numpy as np\n",
        "import matplotlib.pyplot as plt\n",
        "import seaborn as sns\n",
        "\n",
        "# membaca file csv\n",
        "df = pd.read_csv('ds_salaries.csv')\n",
        "\n",
        "# melihat 5 baris pertama dari data\n",
        "print(df.head())\n",
        "\n",
        "# melihat informasi mengenai dataset\n",
        "print(df.info())\n",
        "\n",
        "# membuat summary statistics\n",
        "print(df.describe(include='all'))\n",
        "\n",
        "# membuat histogram dari setiap variabel\n",
        "df.hist(bins=10, figsize=(10,10))\n",
        "plt.show()\n",
        "\n",
        "# membuat scatter plot\n",
        "sns.pairplot(df, diag_kind='hist')\n",
        "plt.show()\n",
        "\n",
        "# membuat heatmap korelasi\n",
        "corr = df.corr(method='pearson')\n",
        "sns.heatmap(corr, cmap='coolwarm', annot=True)\n",
        "plt.show()"
      ],
      "metadata": {
        "id": "ptOa9JZ6WHIM"
      },
      "execution_count": null,
      "outputs": []
    },
    {
      "cell_type": "code",
      "source": [
        "import pandas as pd\n",
        "import numpy as np \n",
        "from sklearn.cluster import KMeans\n",
        "\n",
        "# Baca data CSV\n",
        "df = pd.read_csv('ds_salaries.csv')\n",
        "\n",
        "# Pilih kolom yang akan diklusterkan\n",
        "data = df[['work_year','salary', 'salary_in_usd', 'remote_ratio']]\n",
        "\n",
        "\n",
        "# Definisikan jumlah kluster \n",
        "n_clusters = 3\n",
        "\n",
        "# Inisialisasi kmeans \n",
        "kmeans = KMeans(n_clusters=n_clusters, init='k-means++', max_iter=300, n_init=10, random_state=0)\n",
        "\n",
        "# Pelatihan kmeans \n",
        "kmeans.fit(data) \n",
        "\n",
        "\n",
        "# Dapatkan label kluster \n",
        "labels = kmeans.labels_  \n",
        "\n",
        "# Tambahkan label kluster ke dalam dataframe \n",
        "df['cluster'] = labels\n",
        "# Lihat hasil kluster \n",
        "print(df.head())\n",
        "\n",
        "# Hitung jumlah data di tiap kluster \n",
        "print(df['cluster'].value_counts())\n",
        "\n",
        "# Plot hasil kluster\n",
        "import matplotlib.pyplot as plt \n",
        "plt.scatter(df['salary'], df['salary_in_usd'], c=df['remote_ratio'], cmap='viridis');\n",
        "plt.show()"
      ],
      "metadata": {
        "id": "xUfoqZfZWZA-"
      },
      "execution_count": null,
      "outputs": []
    },
    {
      "cell_type": "code",
      "source": [
        "import numpy as np\n",
        "from sklearn.decomposition import PCA\n",
        "import pandas as pd\n",
        "\n",
        "# load data\n",
        "df = pd.read_csv('ds_salaries.csv')\n",
        "\n",
        "# remove missing values\n",
        "df = df.dropna()\n",
        "\n",
        "# separate features and target variable\n",
        "\n",
        "X = df[['salary', 'work_year']]\n",
        "\n",
        "# perform PCA\n",
        "pca = PCA()\n",
        "pca.fit(X)\n",
        "\n",
        "# calculate explained variance ratio for each PC\n",
        "explained_var_ratio = pca.explained_variance_ratio_\n",
        "\n",
        "# calculate cumulative explained variance ratio\n",
        "cumulative_var_ratio = np.cumsum(explained_var_ratio)\n",
        "\n",
        "# print explained variance ratio and cumulative explained variance ratio\n",
        "print('Explained Variance Ratio:\\n', explained_var_ratio)\n",
        "print('\\nCumulative Explained Variance Ratio:\\n', cumulative_var_ratio)\n"
      ],
      "metadata": {
        "id": "zWzN4nxJq5dY"
      },
      "execution_count": null,
      "outputs": []
    }
  ]
}